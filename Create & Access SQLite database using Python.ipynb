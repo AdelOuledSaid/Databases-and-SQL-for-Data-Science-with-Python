{
 "cells": [
  {
   "cell_type": "markdown",
   "id": "e3f73996-1a13-40ef-995c-52782d51ade1",
   "metadata": {},
   "source": [
    "#### Create database"
   ]
  },
  {
   "cell_type": "code",
   "execution_count": 45,
   "id": "66a2ed85-28f6-4a95-a103-17caacea1f34",
   "metadata": {},
   "outputs": [],
   "source": [
    "import sqlite3"
   ]
  },
  {
   "cell_type": "code",
   "execution_count": 51,
   "id": "1f3e0d06-fbbd-48ac-bdf4-3742afb86782",
   "metadata": {},
   "outputs": [],
   "source": [
    "conn = sqlite3.connect('INSTRUCTO.db')\n"
   ]
  },
  {
   "cell_type": "markdown",
   "id": "72f277df-06fd-4cd1-978d-5682bb5c9fe4",
   "metadata": {},
   "source": [
    "##### Creating a Cursor\n",
    "To create a cursor, you use the cursor() method of the connection object to the database:"
   ]
  },
  {
   "cell_type": "code",
   "execution_count": 52,
   "id": "3027b0a1-e9a3-4e06-a9e1-86611f759169",
   "metadata": {},
   "outputs": [],
   "source": [
    "cursor_obj = conn.cursor()"
   ]
  },
  {
   "cell_type": "code",
   "execution_count": 53,
   "id": "4242af85-8ee6-4ac5-ad79-1d66ccff26f6",
   "metadata": {},
   "outputs": [
    {
     "data": {
      "text/plain": [
       "<sqlite3.Cursor at 0x24646e419c0>"
      ]
     },
     "execution_count": 53,
     "metadata": {},
     "output_type": "execute_result"
    }
   ],
   "source": [
    "cursor_obj.execute(\"DROP TABLE IF EXISTS INSTRUCTOR\")"
   ]
  },
  {
   "cell_type": "markdown",
   "id": "d9bc7e2b-9cc0-4fed-9d0e-f58ab2e03ac1",
   "metadata": {},
   "source": [
    "##### Create a table in the database\n"
   ]
  },
  {
   "cell_type": "markdown",
   "id": "0be8d568-8443-4114-bd0f-1fc74a25e8f4",
   "metadata": {},
   "source": [
    "Define the SQL statement to create the INSTRUCTOR table if it does not already exist"
   ]
  },
  {
   "cell_type": "code",
   "execution_count": 54,
   "id": "dae4ac60-e7f2-4a46-9f5c-309b7fb05761",
   "metadata": {},
   "outputs": [
    {
     "name": "stdout",
     "output_type": "stream",
     "text": [
      "Table is Ready\n"
     ]
    }
   ],
   "source": [
    "table = \"\"\"CREATE TABLE IF NOT EXISTS INSTRUCTOR (\n",
    "             ID INTEGER PRIMARY KEY NOT NULL, \n",
    "             FNAME VARCHAR(20), \n",
    "             LNAME VARCHAR(20), \n",
    "             CITY VARCHAR(20), \n",
    "             CCODE CHAR(2)\n",
    "         );\"\"\"\n",
    "cursor_obj.execute(table)\n",
    "print(\"Table is Ready\")\n",
    "\n"
   ]
  },
  {
   "cell_type": "markdown",
   "id": "e0a90934-ba7b-4a04-b8fc-800b5b17c620",
   "metadata": {},
   "source": [
    "##### Insert data into the INSTRUCTOR table"
   ]
  },
  {
   "cell_type": "code",
   "execution_count": 55,
   "id": "a6afd67e-4dcf-439f-8234-006e68103d03",
   "metadata": {},
   "outputs": [
    {
     "data": {
      "text/plain": [
       "<sqlite3.Cursor at 0x24646e419c0>"
      ]
     },
     "execution_count": 55,
     "metadata": {},
     "output_type": "execute_result"
    }
   ],
   "source": [
    "  cursor_obj.execute(\"INSERT INTO INSTRUCTOR (ID, FNAME, LNAME, CITY, CCODE) VALUES (1, 'John', 'Doe', 'New York', 'US')\")"
   ]
  },
  {
   "cell_type": "code",
   "execution_count": 56,
   "id": "d48e6036-91ea-4647-84a2-cd67bfb5176d",
   "metadata": {},
   "outputs": [
    {
     "data": {
      "text/plain": [
       "<sqlite3.Cursor at 0x24646e419c0>"
      ]
     },
     "execution_count": 56,
     "metadata": {},
     "output_type": "execute_result"
    }
   ],
   "source": [
    "  cursor_obj.execute(\"INSERT INTO INSTRUCTOR VALUES  (2, 'Jane', 'Smith', 'Los Angeles', 'US'),  (3, 'Carlos', 'Garcia', 'Madrid', 'ES')\")"
   ]
  },
  {
   "cell_type": "code",
   "execution_count": 59,
   "id": "f3a7fe60-9efb-48e5-a497-7528a3ed05b5",
   "metadata": {},
   "outputs": [
    {
     "name": "stdout",
     "output_type": "stream",
     "text": [
      "All the data\n",
      "(1, 'John', 'Doe', 'New York', 'US')\n",
      "(2, 'Jane', 'Smith', 'Los Angeles', 'US')\n",
      "(3, 'Carlos', 'Garcia', 'Madrid', 'ES')\n"
     ]
    }
   ],
   "source": [
    "statement = '''SELECT * FROM INSTRUCTOR'''\n",
    "cursor_obj.execute(statement)\n",
    "\n",
    "print(\"All the data\")\n",
    "output_all = cursor_obj.fetchall()\n",
    "for row_all in output_all:\n",
    "  print(row_all)"
   ]
  },
  {
   "cell_type": "code",
   "execution_count": 60,
   "id": "24a547a3-163a-4da2-a1ab-3c090ad4decd",
   "metadata": {},
   "outputs": [
    {
     "name": "stdout",
     "output_type": "stream",
     "text": [
      "All the data\n",
      "('John',)\n",
      "('Jane',)\n",
      "('Carlos',)\n"
     ]
    }
   ],
   "source": [
    "statement = '''SELECT FNAME FROM INSTRUCTOR'''\n",
    "cursor_obj.execute(statement)\n",
    "  \n",
    "print(\"All the data\")\n",
    "output_column = cursor_obj.fetchall()\n",
    "for fetch in output_column:\n",
    "  print(fetch)"
   ]
  },
  {
   "cell_type": "code",
   "execution_count": null,
   "id": "8b32c29e-640e-4c6c-b2c8-23b8bef2f5db",
   "metadata": {},
   "outputs": [],
   "source": [
    "query_update='''update INSTRUCTOR set CITY='M' where FNAME=\"John\"'''\n",
    "cursor_obj.execute(query_update)"
   ]
  },
  {
   "cell_type": "code",
   "execution_count": null,
   "id": "4adf3b85-d2e9-456d-9403-65a696e270b8",
   "metadata": {},
   "outputs": [],
   "source": [
    "statement = '''SELECT * FROM INSTRUCTOR'''\n",
    "cursor_obj.execute(statement)\n",
    "  \n",
    "print(\"All the data\")\n",
    "output1 = cursor_obj.fetchmany(2)\n",
    "for row in output1:\n",
    "  print(row)"
   ]
  },
  {
   "cell_type": "markdown",
   "id": "f9dbc3a0-e918-49f2-90c3-0184137d4e7b",
   "metadata": {},
   "source": [
    "###### Retrieve data into Pandas"
   ]
  },
  {
   "cell_type": "code",
   "execution_count": null,
   "id": "3a9f472b-04a2-452d-8372-91f164f92c23",
   "metadata": {},
   "outputs": [],
   "source": [
    "import pandas as pd\n",
    "#retrieve the query results into a pandas dataframe\n",
    "df = pd.read_sql_query(\"select * from instructor;\", conn)\n",
    "\n",
    "#print the dataframe\n",
    "df"
   ]
  },
  {
   "cell_type": "code",
   "execution_count": null,
   "id": "a3e75f94-100e-4365-a815-74a13213a979",
   "metadata": {},
   "outputs": [],
   "source": [
    "df.LNAME[0]"
   ]
  },
  {
   "cell_type": "code",
   "execution_count": null,
   "id": "f9aa5318-6b51-46f9-af7a-838badc8c2a5",
   "metadata": {},
   "outputs": [],
   "source": [
    "df.shape"
   ]
  },
  {
   "cell_type": "code",
   "execution_count": 44,
   "id": "f502943f-de7b-4d55-b945-9de4238c4703",
   "metadata": {},
   "outputs": [],
   "source": [
    "conn.close()\n"
   ]
  },
  {
   "cell_type": "code",
   "execution_count": null,
   "id": "d7c7fc03-855d-42e3-891b-73ad34a892b6",
   "metadata": {},
   "outputs": [],
   "source": []
  }
 ],
 "metadata": {
  "kernelspec": {
   "display_name": "Python 3 (ipykernel)",
   "language": "python",
   "name": "python3"
  },
  "language_info": {
   "codemirror_mode": {
    "name": "ipython",
    "version": 3
   },
   "file_extension": ".py",
   "mimetype": "text/x-python",
   "name": "python",
   "nbconvert_exporter": "python",
   "pygments_lexer": "ipython3",
   "version": "3.10.11"
  }
 },
 "nbformat": 4,
 "nbformat_minor": 5
}
